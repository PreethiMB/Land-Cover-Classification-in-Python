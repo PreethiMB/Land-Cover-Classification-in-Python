{
  "nbformat": 4,
  "nbformat_minor": 0,
  "metadata": {
    "colab": {
      "provenance": []
    },
    "kernelspec": {
      "name": "python3",
      "display_name": "Python 3"
    },
    "language_info": {
      "name": "python"
    }
  },
  "cells": [
    {
      "cell_type": "code",
      "execution_count": null,
      "metadata": {
        "id": "yAn1WHAfUkQD"
      },
      "outputs": [],
      "source": [
        "import ee\n",
        "ee.Authenticate()\n",
        "project_id = 'your-project-id'\n",
        "ee.Initialize(project=project_id)\n",
        "import geemap"
      ]
    },
    {
      "cell_type": "code",
      "source": [
        "#Define AOI\n",
        "Map = geemap.Map(center=[37.0, -120.0], zoom=7)\n",
        "Map.add_basemap('SATELLITE')\n",
        "Map\n",
        "\n"
      ],
      "metadata": {
        "id": "Z4JiYQB-Umqn"
      },
      "execution_count": null,
      "outputs": []
    },
    {
      "cell_type": "code",
      "source": [
        "aoi = Map.user_roi\n",
        "\n",
        "if aoi is None:\n",
        "    print(\"Please draw a polygon first.\")\n",
        "else:\n",
        "    print(\"AOI defined successfully.\")"
      ],
      "metadata": {
        "id": "IjvTLwh5Upxu"
      },
      "execution_count": null,
      "outputs": []
    },
    {
      "cell_type": "code",
      "source": [
        "#Load Sentinel-2 image from EE\n",
        "\n",
        "s2 = ee.ImageCollection('COPERNICUS/S2_SR_HARMONIZED') \\\n",
        "    .filterBounds(aoi) \\\n",
        "    .filterDate('2022-06-01', '2022-09-01') \\\n",
        "    .filter(ee.Filter.lt('CLOUDY_PIXEL_PERCENTAGE', 10)) \\\n",
        "    .median() \\\n",
        "    .clip(aoi)"
      ],
      "metadata": {
        "id": "6XrXgtraUrjg"
      },
      "execution_count": null,
      "outputs": []
    },
    {
      "cell_type": "code",
      "source": [
        "#Add NDVI and NBR indices\n",
        "def add_indices(img):\n",
        "    ndvi = img.normalizedDifference(['B8', 'B4']).rename('NDVI')\n",
        "    nbr = img.normalizedDifference(['B8', 'B12']).rename('NBR')\n",
        "    return img.addBands([ndvi, nbr])\n",
        "\n",
        "image = add_indices(s2).select(['B2', 'B3', 'B4', 'B8', 'B11', 'NDVI', 'NBR'])"
      ],
      "metadata": {
        "id": "LlFnAzQCUti1"
      },
      "execution_count": null,
      "outputs": []
    },
    {
      "cell_type": "code",
      "source": [
        "#Use ESA worldcover as Trainiing Labels\n",
        "labels = ee.Image('ESA/WorldCover/v100/2020').clip(aoi)\n",
        "\n",
        "# Combine image bands and label band\n",
        "stacked = image.addBands(labels.rename('label'))"
      ],
      "metadata": {
        "id": "8_JRfZeCUvjG"
      },
      "execution_count": null,
      "outputs": []
    },
    {
      "cell_type": "code",
      "source": [
        "#visualise labels\n",
        "# Optional: Visualize the label band using geemap\n",
        "Map = geemap.Map()\n",
        "Map.centerObject(aoi, 9)\n",
        "\n",
        "# Define ESA WorldCover 2020 legend\n",
        "legend_dict = {\n",
        "    'Tree cover': '#006400',                 # Class 10\n",
        "    'Shrubland': '#ffbb22',                  # Class 20\n",
        "    'Grassland': '#ffff4c',                  # Class 30\n",
        "    'Cropland': '#f096ff',                   # Class 40\n",
        "    'Built-up': '#fa0000',                   # Class 50\n",
        "    'Bare / sparse vegetation': '#b4b4b4',   # Class 60\n",
        "    'Snow and ice': '#f0f0f0',               # Class 70\n",
        "    'Permanent water bodies': '#0064c8',     # Class 80\n",
        "    'Herbaceous wetland': '#0096a0',         # Class 90\n",
        "    'Mangroves': '#00cf75',                  # Class 95\n",
        "    'Moss and lichen': '#fae6a0'             # Class 100\n",
        "}\n",
        "\n",
        "\n",
        "# Add original image (e.g., RGB) for reference\n",
        "Map.addLayer(image, {'bands': ['B4', 'B3', 'B2'], 'min': 0, 'max': 3000}, 'Input Image')\n",
        "\n",
        "# Add the label map\n",
        "Map.addLayer(labels, {'min': 10, 'max': 100, 'palette': ['006400', 'ffbb22', 'ffff4c', 'f096ff', 'fa0000', 'b4b4b4', 'f0f0f0', '0064c8', '0096a0', '00cf75', 'fae6a0', '58481f', '0096ff', '9f6fff', 'b4b4b4']}, 'WorldCover 2020')\n",
        "\n",
        "# Add legend\n",
        "Map.add_legend(title='ESA WorldCover 2020', legend_dict=legend_dict)\n",
        "\n",
        "# Show map\n",
        "Map"
      ],
      "metadata": {
        "id": "725de0yyU1Ml"
      },
      "execution_count": null,
      "outputs": []
    },
    {
      "cell_type": "code",
      "source": [
        "#Sample Data for Training\n",
        "points = stacked.sample(\n",
        "    region=aoi,\n",
        "    scale=10,\n",
        "    numPixels=5000,\n",
        "    seed=42,\n",
        "    geometries=True\n",
        ")"
      ],
      "metadata": {
        "id": "GWkXSI2qU3M-"
      },
      "execution_count": null,
      "outputs": []
    },
    {
      "cell_type": "code",
      "source": [
        "#Export sample as GeoJSON to use in Python\n",
        "geemap.ee_export_vector(points, filename='training_data.geojson')\n"
      ],
      "metadata": {
        "id": "TXjoBk-8U5DW"
      },
      "execution_count": null,
      "outputs": []
    },
    {
      "cell_type": "code",
      "source": [
        "#Now, in python, train classifier\n",
        "import geopandas as gpd\n",
        "import numpy as np\n",
        "from sklearn.ensemble import RandomForestClassifier\n",
        "from sklearn.metrics import classification_report\n",
        "\n",
        "gdf = gpd.read_file('training_data.geojson')\n",
        "\n",
        "features = ['B2', 'B3', 'B4', 'B8', 'B11', 'NDVI', 'NBR']\n",
        "X = gdf[features].values\n",
        "y = gdf['label'].values\n",
        "\n",
        "clf = RandomForestClassifier(n_estimators=100, random_state=0)\n",
        "clf.fit(X, y)"
      ],
      "metadata": {
        "id": "sSO7SErkU6y2"
      },
      "execution_count": null,
      "outputs": []
    },
    {
      "cell_type": "code",
      "source": [
        "#Export image from GEE to drive\n",
        "\n",
        "# Cast all bands to float32\n",
        "image = image.toFloat()\n",
        "\n",
        "task = ee.batch.Export.image.toDrive(\n",
        "    image=image,\n",
        "    description='central_valley_export',\n",
        "    folder='GEE_Exports',\n",
        "    fileNamePrefix='central_valley',\n",
        "    region=aoi.getInfo()['coordinates'],\n",
        "    scale=10,\n",
        "    maxPixels=1e13\n",
        ")\n",
        "\n",
        "task.start()\n",
        "\n",
        "print('Export started. Check your Google Drive GEE_Exports folder.')"
      ],
      "metadata": {
        "id": "gmPo1GaeU8mW"
      },
      "execution_count": null,
      "outputs": []
    },
    {
      "cell_type": "code",
      "source": [
        "from google.colab import drive\n",
        "drive.mount('/content/drive')"
      ],
      "metadata": {
        "id": "RxEf4vTUU-c4"
      },
      "execution_count": null,
      "outputs": []
    },
    {
      "cell_type": "code",
      "source": [
        "tif_path = '/content/drive/My Drive/GEE_Exports/central_valley.tif'"
      ],
      "metadata": {
        "id": "vVCv-YENVAMd"
      },
      "execution_count": null,
      "outputs": []
    },
    {
      "cell_type": "code",
      "source": [
        "!pip install rasterio"
      ],
      "metadata": {
        "id": "Yu8OOP06VB6l"
      },
      "execution_count": null,
      "outputs": []
    },
    {
      "cell_type": "code",
      "source": [
        "#Read the image using rasterio\n",
        "import rasterio\n",
        "\n",
        "with rasterio.open(tif_path) as src:\n",
        "    img = src.read()  # shape: (bands, height, width)\n",
        "    profile = src.profile"
      ],
      "metadata": {
        "id": "b2O7A4puVDjn"
      },
      "execution_count": null,
      "outputs": []
    },
    {
      "cell_type": "code",
      "source": [
        "#Reshape and prepare features for prediction\n",
        "import numpy as np\n",
        "\n",
        "bands, height, width = img.shape\n",
        "X_all = img.reshape(bands, -1).T  # reshape to (pixels, bands)"
      ],
      "metadata": {
        "id": "iTEtFdD1VFXe"
      },
      "execution_count": null,
      "outputs": []
    },
    {
      "cell_type": "code",
      "source": [
        "#Predict Land cover with your trained classifier (clf)\n",
        "y_pred = clf.predict(X_all)\n",
        "classified = y_pred.reshape(height, width)"
      ],
      "metadata": {
        "id": "TWKSVIl3VHQv"
      },
      "execution_count": null,
      "outputs": []
    },
    {
      "cell_type": "code",
      "source": [
        "#Save the classified map as a Geotiff\n",
        "with rasterio.open('classified_map.tif', 'w', **profile) as dst:\n",
        "    dst.write(classified.astype(rasterio.uint8), 1)"
      ],
      "metadata": {
        "id": "JaW8HjBDVJI3"
      },
      "execution_count": null,
      "outputs": []
    },
    {
      "cell_type": "code",
      "source": [
        "#Visualize the classification\n",
        "import matplotlib.pyplot as plt\n",
        "\n",
        "plt.figure(figsize=(10, 8))\n",
        "plt.imshow(classified, cmap='tab20')\n",
        "plt.title('Land Cover Classification - Central Valley')\n",
        "plt.axis('off')\n",
        "plt.show()"
      ],
      "metadata": {
        "id": "TBp4g9F4VK7-"
      },
      "execution_count": null,
      "outputs": []
    },
    {
      "cell_type": "code",
      "source": [
        "import numpy as np\n",
        "from sklearn.model_selection import train_test_split\n",
        "from sklearn.ensemble import RandomForestClassifier\n",
        "from sklearn.metrics import classification_report, confusion_matrix, accuracy_score, cohen_kappa_score\n",
        "\n",
        "# Assuming X, y are your full features and labels arrays\n",
        "\n",
        "# Step 1: Split data into train and validation sets (70%-30%)\n",
        "X_train, X_val, y_train, y_val = train_test_split(\n",
        "    X, y, test_size=0.3, random_state=42, stratify=y)\n",
        "\n",
        "# Step 2: Train classifier on training data\n",
        "clf = RandomForestClassifier(n_estimators=100, random_state=42)\n",
        "clf.fit(X_train, y_train)\n",
        "\n",
        "# Step 3: Predict on validation data\n",
        "y_pred_val = clf.predict(X_val)\n",
        "\n",
        "# Step 4: Print basic classification report and confusion matrix\n",
        "print('Accuracy:', accuracy_score(y_val, y_pred_val))\n",
        "cm = confusion_matrix(y_val, y_pred_val)\n",
        "print('Confusion Matrix:\\n', cm)\n",
        "print('Classification Report:\\n', classification_report(y_val, y_pred_val))\n",
        "\n",
        "# Step 5: Calculate Overall Accuracy\n",
        "overall_accuracy = np.trace(cm) / np.sum(cm)\n",
        "print(f\"Overall Accuracy: {overall_accuracy:.4f}\")\n",
        "\n",
        "# Step 6: Calculate Producer's Accuracy and User's Accuracy\n",
        "sum_rows = np.sum(cm, axis=1)  # Actual class totals\n",
        "sum_cols = np.sum(cm, axis=0)  # Predicted class totals\n",
        "\n",
        "producer_accuracy = np.diag(cm) / sum_rows\n",
        "user_accuracy = np.diag(cm) / sum_cols\n",
        "\n",
        "for i, (pa, ua) in enumerate(zip(producer_accuracy, user_accuracy)):\n",
        "    print(f\"Class {i}: Producer's Accuracy = {pa:.4f}, User's Accuracy = {ua:.4f}\")\n",
        "\n",
        "# Step 7: Calculate Kappa coefficient\n",
        "kappa = cohen_kappa_score(y_val, y_pred_val)\n",
        "print(f\"Kappa Coefficient: {kappa:.4f}\")"
      ],
      "metadata": {
        "id": "23AbPtw2VMzY"
      },
      "execution_count": null,
      "outputs": []
    },
    {
      "cell_type": "code",
      "source": [
        "# Load ESA WorldCover and clip to ROI\n",
        "esa = ee.Image('ESA/WorldCover/v100/2020').clip(aoi)\n",
        "geemap.ee_export_image_to_drive(\n",
        "    image=esa,\n",
        "    description='esa_worldcover',\n",
        "    folder='GEE_Exports',\n",
        "    region=aoi,\n",
        "    scale=10\n",
        ")"
      ],
      "metadata": {
        "id": "XmvFw15HVPTw"
      },
      "execution_count": null,
      "outputs": []
    },
    {
      "cell_type": "code",
      "source": [
        "sentinel_tif = '/content/drive/My Drive/GEE_Exports/central_valley.tif'\n",
        "classified_tif = '/content/classified_map.tif'\n",
        "esa_tif = '/content/drive/MyDrive/GEE_Exports/esa_worldcover.tif'"
      ],
      "metadata": {
        "id": "WpYJJO-AVRDf"
      },
      "execution_count": null,
      "outputs": []
    },
    {
      "cell_type": "code",
      "source": [
        "import matplotlib.pyplot as plt\n",
        "import rasterio\n",
        "import numpy as np\n",
        "def read_single_band(path):\n",
        "    with rasterio.open(path) as src:\n",
        "        data = src.read(1)  # read first band\n",
        "    return data\n",
        "\n",
        "# Read images\n",
        "sentinel = read_single_band(sentinel_tif)  # choose a meaningful band, e.g. B4 (red) or NDVI band index if stored\n",
        "classified = read_single_band(classified_tif)\n",
        "esa = read_single_band(esa_tif)\n",
        "\n",
        "# If sentinel is multi-band, you can read 3 bands and make a RGB composite:\n",
        "# with rasterio.open(sentinel_tif) as src:\n",
        "#     red = src.read(4)   # B4 band index (1-based)\n",
        "#     green = src.read(3) # B3 band\n",
        "#     blue = src.read(2)  # B2 band\n",
        "# sentinel_rgb = np.dstack((red, green, blue))\n",
        "# Normalize for display (optional)\n",
        "\n",
        "# Plot side by side\n",
        "fig, axs = plt.subplots(1, 3, figsize=(18, 6))\n",
        "\n",
        "# Sentinel-2 (show one band or composite)\n",
        "axs[0].imshow(sentinel, cmap='gray')\n",
        "axs[0].set_title('Sentinel-2 (B4 band or NDVI)')\n",
        "axs[0].axis('off')\n",
        "\n",
        "# Classified map (with colormap for classes)\n",
        "cmap_classes = plt.get_cmap('tab20')  # good categorical colormap\n",
        "im = axs[1].imshow(classified, cmap=cmap_classes)\n",
        "axs[1].set_title('Classified Map')\n",
        "axs[1].axis('off')\n",
        "\n",
        "# ESA WorldCover\n",
        "cmap_esa = plt.get_cmap('tab20')\n",
        "axs[2].imshow(esa, cmap=cmap_esa)\n",
        "axs[2].set_title('ESA WorldCover')\n",
        "axs[2].axis('off')\n",
        "\n",
        "plt.tight_layout()\n",
        "plt.show()"
      ],
      "metadata": {
        "id": "EYf6XlwLVTje"
      },
      "execution_count": null,
      "outputs": []
    },
    {
      "cell_type": "code",
      "source": [
        "!pip install localtileserver"
      ],
      "metadata": {
        "id": "iHn0P19lVWF_"
      },
      "execution_count": null,
      "outputs": []
    }
  ]
}
